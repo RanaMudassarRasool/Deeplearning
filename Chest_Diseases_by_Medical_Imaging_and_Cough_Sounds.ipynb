{
  "nbformat": 4,
  "nbformat_minor": 0,
  "metadata": {
    "colab": {
      "provenance": [],
      "mount_file_id": "1kg_fdZK6QVSbYoY9hbnDB7SIdjOHNrSH",
      "authorship_tag": "ABX9TyNGc1mVz6f870ZsxGATDMpA",
      "include_colab_link": true
    },
    "kernelspec": {
      "name": "python3",
      "display_name": "Python 3"
    },
    "language_info": {
      "name": "python"
    },
    "accelerator": "TPU"
  },
  "cells": [
    {
      "cell_type": "markdown",
      "metadata": {
        "id": "view-in-github",
        "colab_type": "text"
      },
      "source": [
        "<a href=\"https://colab.research.google.com/github/RanaMudassarRasool/DeeplearningForMedicalImages/blob/main/Chest_Diseases_by_Medical_Imaging_and_Cough_Sounds.ipynb\" target=\"_parent\"><img src=\"https://colab.research.google.com/assets/colab-badge.svg\" alt=\"Open In Colab\"/></a>"
      ]
    },
    {
      "cell_type": "markdown",
      "source": [
        "# Chest Diseases by Medical Imaging and Cough Sounds\n",
        "\n",
        "About Dataset\n",
        "This dataset contains cough sound images (CSI), chest X-rays (CXR), and CT scan images of several chest diseases such as COVID-19, lung cancer (LC), consolidation lung (COL), atelectasis (ATE), tuberculosis (TB), pneumothorax (PNEUTH), edema (EDE), pneumonia (PNEU) and normal (NOR). The dataset was collected from Al-Shafa Hospital, Multan, Pakistan in collaboration with Apple Pharma medicine dealer company. The statistics of the dataset are presented in Table 1. The meta-information of the patient is not provided. However, the dataset is about 20% of female and 80% of male CSI, CXR, and CT scan images. In addition, CXR, CSI, and CT scans of individuals aged 41 to 62 years were collected.\n",
        "\n",
        "Table 1. Statistics of the chest diseases dataset.\n",
        "\n",
        "Sr#\tChest Diseases\tCSI\tCXR\tCT\n",
        "1\tCOVID-19\t28\t5\t17\n",
        "2\tLungs Cancer\t30\t7\t5\n",
        "3\tConsolidation Lung\t18\t5\t3\n",
        "4\tAtelectasis\t25\t4\t4\n",
        "5\tTuberculosis\t27\t4\t6\n",
        "6\tPneumothorax\t18\t5\t4\n",
        "7\tEdema\t18\t5\t9\n",
        "8\tPneumonia\t16\t10\t15\n",
        "9\tNormal\t24\t6\t8\n",
        "Malik, Hassaan; Anees, Tayyaba (2023), “Chest Diseases Using Different Medical Imaging and Cough Sounds”, Mendeley Data, V1, doi: 10.17632/y6dvssx73b.1"
      ],
      "metadata": {
        "id": "MQwwn37Z1-Nl"
      }
    },
    {
      "cell_type": "code",
      "execution_count": 12,
      "metadata": {
        "id": "lwENYkAkkrz5"
      },
      "outputs": [],
      "source": [
        "# Importing Libraries\n",
        "from tensorflow import keras\n",
        "from tensorflow.keras.applications.densenet import DenseNet121\n",
        "from tensorflow.keras.preprocessing.image import ImageDataGenerator\n",
        "from tensorflow.keras.models import Sequential\n",
        "from tensorflow.keras.layers import Conv2D, Flatten, MaxPooling2D, Dense, Dropout, GlobalAveragePooling2D\n",
        "from tensorflow.keras import optimizers, losses\n",
        "from tensorflow.keras.callbacks import ModelCheckpoint\n",
        "from tensorflow.keras.preprocessing import image\n",
        "\n",
        "import pickle\n",
        "import numpy as np\n",
        "import matplotlib.pyplot as plt\n",
        "\n",
        "import warnings\n",
        "warnings.filterwarnings(\"ignore\")"
      ]
    },
    {
      "cell_type": "code",
      "source": [
        "# Base Path for all files\n",
        "data_dir = '/content/drive/MyDrive/ChestDiseasesUsingDifferentMedicalImagingandCoughSounds/Chest Diseases Dataset/Chest Diseases Dataset'"
      ],
      "metadata": {
        "id": "9CzqA8hBmG9Q"
      },
      "execution_count": 56,
      "outputs": []
    },
    {
      "cell_type": "markdown",
      "source": [
        "**Load Images For Training & Testing**"
      ],
      "metadata": {
        "id": "3NiBlFoH2H95"
      }
    },
    {
      "cell_type": "code",
      "source": [
        "###### Using ImageDataGenerator to load the Images for Training and Testing the CNN Model\n",
        "datagenerator = {\n",
        "    \"train\": ImageDataGenerator(horizontal_flip=True,\n",
        "                                vertical_flip=True,\n",
        "                                rescale=1. / 255,\n",
        "                                validation_split=0.1,\n",
        "                                shear_range=0.1,\n",
        "                                zoom_range=0.1,\n",
        "                                width_shift_range=0.1,\n",
        "                                height_shift_range=0.1,\n",
        "                                rotation_range=30,\n",
        "                               ).flow_from_directory(directory=data_dir,\n",
        "                                                     target_size=(256, 256),\n",
        "                                                     subset='training',\n",
        "                                                    ),\n",
        "\n",
        "    \"valid\": ImageDataGenerator(rescale=1 / 255,\n",
        "                                validation_split=0.1,\n",
        "                               ).flow_from_directory(directory=data_dir,\n",
        "                                                     target_size=(256, 256),\n",
        "                                                     subset='validation',\n",
        "                                                    ),\n",
        "\"test\": ImageDataGenerator(rescale=1 / 255)\n",
        "    }"
      ],
      "metadata": {
        "colab": {
          "base_uri": "https://localhost:8080/"
        },
        "id": "Z6OtpD-JmQZK",
        "outputId": "1713f435-a843-40a7-9478-b69562e1da02"
      },
      "execution_count": 75,
      "outputs": [
        {
          "output_type": "stream",
          "name": "stdout",
          "text": [
            "Found 297 images belonging to 9 classes.\n",
            "Found 29 images belonging to 9 classes.\n"
          ]
        }
      ]
    },
    {
      "cell_type": "markdown",
      "source": [
        "**Initialize Densenet-121 Pretrained Model**"
      ],
      "metadata": {
        "id": "Y80JMMj1mg6I"
      }
    },
    {
      "cell_type": "code",
      "source": [
        "# Initializing InceptionV3 (pretrained) model with input image shape as (300, 300, 3)\n",
        "base_model = DenseNet121(weights=None, include_top=False, input_shape=(256, 256, 3))\n",
        "\n",
        "# Load Weights for the InceptionV3 Model\n",
        "base_model.load_weights('/content/drive/MyDrive/DenseNet-BC-121-32-no-top.h5')\n",
        "\n",
        "# Setting the Training of all layers of InceptionV3 model to false\n",
        "base_model.trainable = False"
      ],
      "metadata": {
        "id": "rlXzFu7mmime"
      },
      "execution_count": 66,
      "outputs": []
    },
    {
      "cell_type": "code",
      "source": [
        "# Define the model architecture\n",
        "model = Sequential()\n",
        "\n",
        "# Load pre-trained DenseNet121 model (without the final classification layers)\n",
        "base_model = DenseNet121(weights='imagenet', include_top=False, input_shape=(256, 256, 3))\n",
        "\n",
        "# Freeze the pre-trained layers (optional)\n",
        "for layer in base_model.layers:\n",
        "  layer.trainable = False\n",
        "\n",
        "# Add additional layers for classification\n",
        "model.add(base_model)\n",
        "model.add(GlobalAveragePooling2D())\n",
        "model.add(Dense(1024, activation='relu'))  # Dense layer with 1024 neurons and ReLU activation\n",
        "model.add(Dropout(0.5))  # Dropout layer with 50% dropout rate\n",
        "model.add(Dense(9, activation='softmax'))  # Output layer with 9 neurons (one for each class) and softmax activation\n",
        "\n",
        "# Compile the model\n",
        "model.compile(optimizer=optimizers.Adam(learning_rate=0.001),\n",
        "              loss=losses.CategoricalCrossentropy(),\n",
        "              metrics=['accuracy'])\n",
        "\n",
        "# Train the model\n",
        "model.fit(datagenerator['train'], epochs=10, validation_data=datagenerator['valid'])\n"
      ],
      "metadata": {
        "colab": {
          "base_uri": "https://localhost:8080/"
        },
        "id": "bK6LUB_nEwGv",
        "outputId": "d639b620-1e62-4cf9-9e1c-090ba37ae8c0"
      },
      "execution_count": 76,
      "outputs": [
        {
          "output_type": "stream",
          "name": "stdout",
          "text": [
            "Downloading data from https://storage.googleapis.com/tensorflow/keras-applications/densenet/densenet121_weights_tf_dim_ordering_tf_kernels_notop.h5\n",
            "29084464/29084464 [==============================] - 0s 0us/step\n",
            "Epoch 1/10\n",
            "10/10 [==============================] - 102s 9s/step - loss: 2.5759 - accuracy: 0.1717 - val_loss: 1.9242 - val_accuracy: 0.3448\n",
            "Epoch 2/10\n",
            "10/10 [==============================] - 93s 9s/step - loss: 2.1901 - accuracy: 0.2256 - val_loss: 1.5935 - val_accuracy: 0.4138\n",
            "Epoch 3/10\n",
            "10/10 [==============================] - 92s 9s/step - loss: 2.0702 - accuracy: 0.2290 - val_loss: 1.5135 - val_accuracy: 0.3793\n",
            "Epoch 4/10\n",
            "10/10 [==============================] - 91s 9s/step - loss: 1.8755 - accuracy: 0.3064 - val_loss: 1.5685 - val_accuracy: 0.4138\n",
            "Epoch 5/10\n",
            "10/10 [==============================] - 92s 9s/step - loss: 1.7710 - accuracy: 0.3300 - val_loss: 1.4020 - val_accuracy: 0.3103\n",
            "Epoch 6/10\n",
            "10/10 [==============================] - 92s 9s/step - loss: 1.7254 - accuracy: 0.3030 - val_loss: 1.4609 - val_accuracy: 0.2759\n",
            "Epoch 7/10\n",
            "10/10 [==============================] - 91s 10s/step - loss: 1.6086 - accuracy: 0.3704 - val_loss: 1.4070 - val_accuracy: 0.4138\n",
            "Epoch 8/10\n",
            "10/10 [==============================] - 90s 9s/step - loss: 1.5239 - accuracy: 0.3670 - val_loss: 1.3900 - val_accuracy: 0.2759\n",
            "Epoch 9/10\n",
            "10/10 [==============================] - 97s 9s/step - loss: 1.6240 - accuracy: 0.3704 - val_loss: 1.4451 - val_accuracy: 0.4138\n",
            "Epoch 10/10\n",
            "10/10 [==============================] - 91s 9s/step - loss: 1.6036 - accuracy: 0.3771 - val_loss: 1.4002 - val_accuracy: 0.2759\n"
          ]
        },
        {
          "output_type": "execute_result",
          "data": {
            "text/plain": [
              "<keras.callbacks.History at 0x7b6ba2cbd630>"
            ]
          },
          "metadata": {},
          "execution_count": 76
        }
      ]
    },
    {
      "cell_type": "code",
      "source": [
        "# Function to predict on a single image\n",
        "def predict_on_image(img_path):\n",
        "  # Load the image and pre-process it\n",
        "  img = image.load_img(img_path, target_size=(256, 256))\n",
        "  x = image.img_to_array(img)\n",
        "  x = np.expand_dims(x, axis=0)  # Add a dimension for batch processing\n",
        "  x = x / 255.0  # Rescale to 0-1\n",
        "\n",
        "  # Predict using the trained model\n",
        "  prediction = model.predict(x)[0]\n",
        "\n",
        "  # Get the class with the highest probability\n",
        "  predicted_class_idx = np.argmax(prediction)\n",
        "  predicted_class = class_labels[predicted_class_idx]\n",
        "\n",
        "  # Print the predicted class and probability of each class\n",
        "  print(f\"Predicted class: {predicted_class}\")\n",
        "  print(f\"Probabilities: {prediction}\")\n",
        "\n",
        "# Replace 'class_labels' with the actual class labels from your data\n",
        "class_labels = ['Normal', 'Pneumonia', 'Edema', 'Pneumothorax', 'Tuberculosis',\n",
        "                'Tuberculosis', 'Atelectasis', 'Consolidation Lung', 'COVID-19']\n",
        "\n",
        "# Get the path to the image you want to predict on\n",
        "predict_on_image(\"/content/drive/MyDrive/ChestDiseasesUsingDifferentMedicalImagingandCoughSounds/Chest Diseases Dataset/Chest Diseases Dataset/1. COVID-19/CT Scan/Image 01 (1).jpeg\")\n",
        "\n",
        "\n"
      ],
      "metadata": {
        "colab": {
          "base_uri": "https://localhost:8080/"
        },
        "id": "1m0OS9ElFci0",
        "outputId": "6d953f3c-b577-4e5b-f876-c8974ce7c7ee"
      },
      "execution_count": 80,
      "outputs": [
        {
          "output_type": "stream",
          "name": "stdout",
          "text": [
            "1/1 [==============================] - 0s 247ms/step\n",
            "Predicted class: Consolidation Lung\n",
            "Probabilities: [0.07258204 0.07999437 0.10200949 0.0802157  0.1402798  0.09301724\n",
            " 0.07643994 0.2528566  0.10260493]\n"
          ]
        }
      ]
    }
  ]
}